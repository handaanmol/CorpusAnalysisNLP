{
 "cells": [
  {
   "cell_type": "code",
   "execution_count": 1,
   "metadata": {},
   "outputs": [],
   "source": [
    "import nltk"
   ]
  },
  {
   "cell_type": "code",
   "execution_count": 14,
   "metadata": {},
   "outputs": [],
   "source": [
    "data_insta = open('hashes-instagram.txt', encoding=\"utf8\")"
   ]
  },
  {
   "cell_type": "code",
   "execution_count": 15,
   "metadata": {},
   "outputs": [],
   "source": [
    "data=data_insta.readlines()"
   ]
  },
  {
   "cell_type": "code",
   "execution_count": 17,
   "metadata": {},
   "outputs": [
    {
     "data": {
      "text/plain": [
       "['\\ufeff#WhenSkyPoursLove #IthacaFalls #PleasentWeather #NYBound\\n',\n",
       " '#HappyBday #Soulmate #mysourceofhappiness  #seeyousoon #Enjoy🎉🎉🎁🎁🎁\\U0001f929😍 @dips_1302\\n',\n",
       " '#JusADayLeft #HappyToYouSoon #TurningOlderTurningPrettier #mysourceofhappiness 😍🎉🎉\\n',\n",
       " '#3daystogo #woohoo #bdaySooon #ExcitedMeinAida #mysourceofhappiness 😍😍😍\\n',\n",
       " '#bdayWeek #4daysLeft #TwinningForLife #heySoulmate #getreadyforblast #mysourceOfhappiness\\n',\n",
       " '#AnotherSnowyDay #SomewhereInNY #WishToSeeSunSoon #ComeBackSun #ImissYou 😔😝🎅🏻\\n',\n",
       " 'Catholic Church visit at christmas eve.\\n',\n",
       " '#FinalsWeek #ByeBye1stSem #Presentations\\n',\n",
       " '#TripToNYC #LivingAnAmericanDream #NewYorkHasRikshawsToo #Famjam😝🤘🏻😍\\n',\n",
       " '#TripToWaterloo #AwesomeCar #FamJam #WinterShopping #WinterIsComing 🤘🏻👻\\n']"
      ]
     },
     "execution_count": 17,
     "metadata": {},
     "output_type": "execute_result"
    }
   ],
   "source": []
  },
  {
   "cell_type": "code",
   "execution_count": 18,
   "metadata": {},
   "outputs": [],
   "source": [
    "from nltk.corpus import PlaintextCorpusReader"
   ]
  },
  {
   "cell_type": "code",
   "execution_count": 19,
   "metadata": {},
   "outputs": [],
   "source": [
    "mycorpus =PlaintextCorpusReader('.','.*\\.txt')"
   ]
  },
  {
   "cell_type": "code",
   "execution_count": 20,
   "metadata": {},
   "outputs": [],
   "source": [
    "hash_text = mycorpus.raw('hashes-instagram.txt')"
   ]
  },
  {
   "cell_type": "code",
   "execution_count": 23,
   "metadata": {},
   "outputs": [
    {
     "data": {
      "text/plain": [
       "'#WhenSkyPoursLove #IthacaFalls #PleasentWeather #NYBound\\r\\n#HappyBday #Soulmate #mysourceofhappiness '"
      ]
     },
     "execution_count": 23,
     "metadata": {},
     "output_type": "execute_result"
    }
   ],
   "source": [
    "hash_text[:100]"
   ]
  },
  {
   "cell_type": "code",
   "execution_count": 24,
   "metadata": {},
   "outputs": [
    {
     "data": {
      "text/plain": [
       "4397"
      ]
     },
     "execution_count": 24,
     "metadata": {},
     "output_type": "execute_result"
    }
   ],
   "source": [
    "len(hash_text)"
   ]
  },
  {
   "cell_type": "code",
   "execution_count": 25,
   "metadata": {},
   "outputs": [],
   "source": [
    "hash_text_token=nltk.word_tokenize(hash_text)"
   ]
  },
  {
   "cell_type": "code",
   "execution_count": 26,
   "metadata": {},
   "outputs": [
    {
     "data": {
      "text/plain": [
       "['#',\n",
       " 'WhenSkyPoursLove',\n",
       " '#',\n",
       " 'IthacaFalls',\n",
       " '#',\n",
       " 'PleasentWeather',\n",
       " '#',\n",
       " 'NYBound',\n",
       " '#',\n",
       " 'HappyBday',\n",
       " '#',\n",
       " 'Soulmate',\n",
       " '#',\n",
       " 'mysourceofhappiness',\n",
       " '#',\n",
       " 'seeyousoon',\n",
       " '#',\n",
       " 'Enjoy🎉🎉🎁🎁🎁\\U0001f929😍',\n",
       " '@',\n",
       " 'dips_1302',\n",
       " '#',\n",
       " 'JusADayLeft',\n",
       " '#',\n",
       " 'HappyToYouSoon',\n",
       " '#',\n",
       " 'TurningOlderTurningPrettier',\n",
       " '#',\n",
       " 'mysourceofhappiness',\n",
       " '😍🎉🎉',\n",
       " '#',\n",
       " '3daystogo',\n",
       " '#',\n",
       " 'woohoo',\n",
       " '#',\n",
       " 'bdaySooon',\n",
       " '#',\n",
       " 'ExcitedMeinAida',\n",
       " '#',\n",
       " 'mysourceofhappiness',\n",
       " '😍😍😍',\n",
       " '#',\n",
       " 'bdayWeek',\n",
       " '#',\n",
       " '4daysLeft',\n",
       " '#',\n",
       " 'TwinningForLife',\n",
       " '#',\n",
       " 'heySoulmate',\n",
       " '#',\n",
       " 'getreadyforblast',\n",
       " '#',\n",
       " 'mysourceOfhappiness',\n",
       " '#',\n",
       " 'AnotherSnowyDay',\n",
       " '#',\n",
       " 'SomewhereInNY',\n",
       " '#',\n",
       " 'WishToSeeSunSoon',\n",
       " '#',\n",
       " 'ComeBackSun',\n",
       " '#',\n",
       " 'ImissYou',\n",
       " '😔😝🎅🏻',\n",
       " 'Catholic',\n",
       " 'Church',\n",
       " 'visit',\n",
       " 'at',\n",
       " 'christmas',\n",
       " 'eve',\n",
       " '.',\n",
       " '#',\n",
       " 'FinalsWeek',\n",
       " '#',\n",
       " 'ByeBye1stSem',\n",
       " '#',\n",
       " 'Presentations',\n",
       " '#',\n",
       " 'TripToNYC',\n",
       " '#',\n",
       " 'LivingAnAmericanDream',\n",
       " '#',\n",
       " 'NewYorkHasRikshawsToo',\n",
       " '#',\n",
       " 'Famjam😝🤘🏻😍',\n",
       " '#',\n",
       " 'TripToWaterloo',\n",
       " '#',\n",
       " 'AwesomeCar',\n",
       " '#',\n",
       " 'FamJam',\n",
       " '#',\n",
       " 'WinterShopping',\n",
       " '#',\n",
       " 'WinterIsComing',\n",
       " '🤘🏻👻',\n",
       " '#',\n",
       " 'ImissYouGuys',\n",
       " '#',\n",
       " 'throwback',\n",
       " '#',\n",
       " 'DelhiDays',\n",
       " '#',\n",
       " 'MissYouall',\n",
       " '#',\n",
       " 'LoveYouall',\n",
       " '#',\n",
       " 'ShitSidJayMissing👻😍❤️',\n",
       " '#',\n",
       " 'GradLife',\n",
       " '#',\n",
       " 'StudyNHaveFun',\n",
       " '#',\n",
       " 'Niagra',\n",
       " '#',\n",
       " 'TakeMeBack',\n",
       " '😍',\n",
       " '#',\n",
       " 'HappybdayAdityabhai',\n",
       " '#',\n",
       " 'Celebrations']"
      ]
     },
     "execution_count": 26,
     "metadata": {},
     "output_type": "execute_result"
    }
   ],
   "source": [
    "hash_text_token[:120]"
   ]
  },
  {
   "cell_type": "code",
   "execution_count": 27,
   "metadata": {},
   "outputs": [],
   "source": [
    "hash_text_words= [w.lower() for w in hash_text_token]"
   ]
  },
  {
   "cell_type": "code",
   "execution_count": 46,
   "metadata": {},
   "outputs": [
    {
     "data": {
      "text/plain": [
       "['whenskypourslove',\n",
       " 'ithacafalls',\n",
       " 'pleasentweather',\n",
       " '#',\n",
       " 'nybound',\n",
       " '#',\n",
       " 'happybday',\n",
       " '#',\n",
       " 'soulmate',\n",
       " '#',\n",
       " 'mysourceofhappiness',\n",
       " '#',\n",
       " 'seeyousoon',\n",
       " '#',\n",
       " 'enjoy🎉🎉🎁🎁🎁\\U0001f929😍',\n",
       " '@',\n",
       " 'dips_1302',\n",
       " '#',\n",
       " 'jusadayleft',\n",
       " '#',\n",
       " 'happytoyousoon',\n",
       " '#',\n",
       " 'turningolderturningprettier',\n",
       " '#',\n",
       " 'mysourceofhappiness',\n",
       " '😍🎉🎉',\n",
       " '#',\n",
       " '3daystogo',\n",
       " '#',\n",
       " 'woohoo',\n",
       " '#',\n",
       " 'bdaysooon',\n",
       " '#',\n",
       " 'excitedmeinaida',\n",
       " '#',\n",
       " 'mysourceofhappiness',\n",
       " '😍😍😍',\n",
       " '#',\n",
       " 'bdayweek',\n",
       " '#',\n",
       " '4daysleft',\n",
       " '#',\n",
       " 'twinningforlife',\n",
       " '#',\n",
       " 'heysoulmate',\n",
       " '#',\n",
       " 'getreadyforblast',\n",
       " '#',\n",
       " 'mysourceofhappiness',\n",
       " '#',\n",
       " 'anothersnowyday',\n",
       " '#',\n",
       " 'somewhereinny',\n",
       " '#',\n",
       " 'wishtoseesunsoon',\n",
       " '#',\n",
       " 'comebacksun',\n",
       " '#',\n",
       " 'imissyou',\n",
       " '😔😝🎅🏻',\n",
       " 'catholic',\n",
       " 'church',\n",
       " 'visit',\n",
       " 'at',\n",
       " 'christmas',\n",
       " 'eve',\n",
       " '.',\n",
       " '#',\n",
       " 'finalsweek',\n",
       " '#',\n",
       " 'byebye1stsem',\n",
       " '#',\n",
       " 'presentations',\n",
       " '#',\n",
       " 'triptonyc',\n",
       " '#',\n",
       " 'livinganamericandream',\n",
       " '#',\n",
       " 'newyorkhasrikshawstoo',\n",
       " '#',\n",
       " 'famjam😝🤘🏻😍',\n",
       " '#',\n",
       " 'triptowaterloo',\n",
       " '#',\n",
       " 'awesomecar',\n",
       " '#',\n",
       " 'famjam',\n",
       " '#',\n",
       " 'wintershopping',\n",
       " '#',\n",
       " 'winteriscoming',\n",
       " '🤘🏻👻',\n",
       " '#',\n",
       " 'imissyouguys',\n",
       " '#',\n",
       " 'throwback',\n",
       " '#',\n",
       " 'delhidays',\n",
       " '#',\n",
       " 'missyouall',\n",
       " '#',\n",
       " 'loveyouall',\n",
       " '#',\n",
       " 'shitsidjaymissing👻😍❤️',\n",
       " '#',\n",
       " 'gradlife',\n",
       " '#',\n",
       " 'studynhavefun',\n",
       " '#',\n",
       " 'niagra',\n",
       " '#',\n",
       " 'takemeback',\n",
       " '😍',\n",
       " '#',\n",
       " 'happybdayadityabhai',\n",
       " '#',\n",
       " 'celebrations',\n",
       " '#',\n",
       " 'syracusegang',\n",
       " '#']"
      ]
     },
     "execution_count": 46,
     "metadata": {},
     "output_type": "execute_result"
    }
   ],
   "source": [
    "hash_text_words[:120]\n"
   ]
  },
  {
   "cell_type": "code",
   "execution_count": 48,
   "metadata": {},
   "outputs": [],
   "source": [
    "hash_text_words_final=list(filter(lambda a: a != '#', hash_text_words))"
   ]
  },
  {
   "cell_type": "code",
   "execution_count": 49,
   "metadata": {},
   "outputs": [
    {
     "data": {
      "text/plain": [
       "['whenskypourslove',\n",
       " 'ithacafalls',\n",
       " 'pleasentweather',\n",
       " 'nybound',\n",
       " 'happybday',\n",
       " 'soulmate',\n",
       " 'mysourceofhappiness',\n",
       " 'seeyousoon',\n",
       " 'enjoy🎉🎉🎁🎁🎁\\U0001f929😍',\n",
       " '@',\n",
       " 'dips_1302',\n",
       " 'jusadayleft',\n",
       " 'happytoyousoon',\n",
       " 'turningolderturningprettier',\n",
       " 'mysourceofhappiness',\n",
       " '😍🎉🎉',\n",
       " '3daystogo',\n",
       " 'woohoo',\n",
       " 'bdaysooon',\n",
       " 'excitedmeinaida',\n",
       " 'mysourceofhappiness',\n",
       " '😍😍😍',\n",
       " 'bdayweek',\n",
       " '4daysleft',\n",
       " 'twinningforlife',\n",
       " 'heysoulmate',\n",
       " 'getreadyforblast',\n",
       " 'mysourceofhappiness',\n",
       " 'anothersnowyday',\n",
       " 'somewhereinny',\n",
       " 'wishtoseesunsoon',\n",
       " 'comebacksun',\n",
       " 'imissyou',\n",
       " '😔😝🎅🏻',\n",
       " 'catholic',\n",
       " 'church',\n",
       " 'visit',\n",
       " 'at',\n",
       " 'christmas',\n",
       " 'eve',\n",
       " '.',\n",
       " 'finalsweek',\n",
       " 'byebye1stsem',\n",
       " 'presentations',\n",
       " 'triptonyc',\n",
       " 'livinganamericandream',\n",
       " 'newyorkhasrikshawstoo',\n",
       " 'famjam😝🤘🏻😍',\n",
       " 'triptowaterloo',\n",
       " 'awesomecar',\n",
       " 'famjam',\n",
       " 'wintershopping',\n",
       " 'winteriscoming',\n",
       " '🤘🏻👻',\n",
       " 'imissyouguys',\n",
       " 'throwback',\n",
       " 'delhidays',\n",
       " 'missyouall',\n",
       " 'loveyouall',\n",
       " 'shitsidjaymissing👻😍❤️',\n",
       " 'gradlife',\n",
       " 'studynhavefun',\n",
       " 'niagra',\n",
       " 'takemeback',\n",
       " '😍',\n",
       " 'happybdayadityabhai',\n",
       " 'celebrations',\n",
       " 'syracusegang',\n",
       " 'homeawayfromhome',\n",
       " '500daysofstreak',\n",
       " 'snapchatter',\n",
       " 'someseriousgoals',\n",
       " 'thisshouldntend',\n",
       " 'mysourceofhappiness',\n",
       " 'mysourceofgussa❤️',\n",
       " 'fewbirthdayrituals',\n",
       " 'happybdaytome',\n",
       " 'oldmonk🙏🏻',\n",
       " 'boundariescantseparateus',\n",
       " 'loveforyougrowseveryday',\n",
       " 'mysourceofhappiness',\n",
       " 'cantthankenoughforeverything',\n",
       " 'happy18😍❤️😘',\n",
       " 'majormissinghappening',\n",
       " 'comesoon',\n",
       " 'lateupload',\n",
       " 'imissyou',\n",
       " '❤️',\n",
       " 'farewells',\n",
       " 'are',\n",
       " 'always',\n",
       " 'sad',\n",
       " ',',\n",
       " 'but',\n",
       " 'i',\n",
       " 'loved',\n",
       " 'every',\n",
       " 'moment',\n",
       " 'spent',\n",
       " 'with',\n",
       " 'you',\n",
       " 'all',\n",
       " ',',\n",
       " 'without',\n",
       " 'you',\n",
       " 'guys',\n",
       " 'it',\n",
       " 'would',\n",
       " 'have',\n",
       " 'been',\n",
       " 'impossible',\n",
       " 'to',\n",
       " 'sustain',\n",
       " 'these',\n",
       " '2',\n",
       " 'years',\n",
       " '❤️',\n",
       " 'happinessisyou',\n",
       " '❤️',\n",
       " 'happy']"
      ]
     },
     "execution_count": 49,
     "metadata": {},
     "output_type": "execute_result"
    }
   ],
   "source": [
    "hash_text_words_final[:120]"
   ]
  },
  {
   "cell_type": "code",
   "execution_count": 56,
   "metadata": {},
   "outputs": [],
   "source": [
    "import csv\n",
    "\n",
    "with open(\"hashes.csv\", 'w',encoding=\"utf8\") as myfile:\n",
    "    wr = csv.writer(myfile, quoting=csv.QUOTE_ALL)\n",
    "    wr.writerow(hash_text_words_final)"
   ]
  },
  {
   "cell_type": "code",
   "execution_count": null,
   "metadata": {},
   "outputs": [],
   "source": []
  }
 ],
 "metadata": {
  "kernelspec": {
   "display_name": "Python 3",
   "language": "python",
   "name": "python3"
  },
  "language_info": {
   "codemirror_mode": {
    "name": "ipython",
    "version": 3
   },
   "file_extension": ".py",
   "mimetype": "text/x-python",
   "name": "python",
   "nbconvert_exporter": "python",
   "pygments_lexer": "ipython3",
   "version": "3.6.3"
  }
 },
 "nbformat": 4,
 "nbformat_minor": 2
}
